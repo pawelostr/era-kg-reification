{
 "cells": [
  {
   "attachments": {},
   "cell_type": "markdown",
   "metadata": {},
   "source": [
    "## UNIX"
   ]
  },
  {
   "cell_type": "code",
   "execution_count": null,
   "metadata": {
    "colab": {
     "base_uri": "https://localhost:8080/"
    },
    "executionInfo": {
     "elapsed": 625,
     "status": "ok",
     "timestamp": 1686047220744,
     "user": {
      "displayName": "Paweł Ostrowski",
      "userId": "05501560134842429035"
     },
     "user_tz": -120
    },
    "id": "kACLTSRjPSTj",
    "outputId": "0fd85878-6fef-42fd-dae8-de790a4c3fa1"
   },
   "outputs": [],
   "source": [
    "# !python3 -m pip install morph_kgc\n",
    "\n",
    "!pip list | grep morph\n",
    "\n",
    "# create the config file\n",
    "!echo \"[CONFIGURATION]\" > config-temp.ini\n",
    "!echo \"output_format=N-QUADS\" >> config-temp.ini\n",
    "!echo \"[DataSourceCSV]\" >> config-temp.ini\n",
    "!echo \"mappings=map-es-star-joined-csv.ttl\" >> config-temp.ini\n",
    "\n",
    "\n",
    "!cat config-temp.ini\n",
    "\n",
    "!python3 -m morph_kgc config-temp.ini"
   ]
  },
  {
   "attachments": {},
   "cell_type": "markdown",
   "metadata": {},
   "source": [
    "## Windows"
   ]
  },
  {
   "cell_type": "code",
   "execution_count": null,
   "metadata": {},
   "outputs": [],
   "source": [
    "# create the config file\n",
    "!echo [CONFIGURATION] > config-temp.ini\n",
    "!echo output_format=N-QUADS >> config-temp.ini\n",
    "!echo [DataSourceCSV] >> config-temp.ini\n",
    "!echo mappings=map-es-std-csv.ttl >> config-temp.ini\n",
    "\n",
    "!python3 -m morph_kgc config-temp.ini"
   ]
  }
 ],
 "metadata": {
  "colab": {
   "provenance": []
  },
  "kernelspec": {
   "display_name": "venv",
   "language": "python",
   "name": "python3"
  },
  "language_info": {
   "codemirror_mode": {
    "name": "ipython",
    "version": 3
   },
   "file_extension": ".py",
   "mimetype": "text/x-python",
   "name": "python",
   "nbconvert_exporter": "python",
   "pygments_lexer": "ipython3",
   "version": "3.11.4"
  }
 },
 "nbformat": 4,
 "nbformat_minor": 0
}
