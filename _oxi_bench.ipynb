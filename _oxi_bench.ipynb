{
 "cells": [
  {
   "cell_type": "code",
   "execution_count": null,
   "metadata": {},
   "outputs": [],
   "source": [
    "from pyoxigraph import Store\n",
    "from io import BytesIO\n",
    "from time import time\n",
    "\n",
    "\n",
    "file_path = 'graphs/kg-std.nq'\n",
    "\n",
    "with open(file_path, 'r') as file:\n",
    "    rdf_ntriples = file.read()\n",
    "\n",
    "graph = Store()\n",
    "\n",
    "graph.bulk_load(BytesIO(rdf_ntriples.encode()), 'application/n-quads')\n",
    "\n",
    "with open('queries/querystd3', 'r') as file:\n",
    "    q4 = file.read()\n",
    "\n",
    "times = []\n",
    "times2 = []\n",
    "\n",
    "for _ in range(5):\n",
    "\n",
    "    t1 = time()\n",
    "    q_res = graph.query(q4)\n",
    "    t2 = time()\n",
    "    times.append(int(round(t2-t1, 3)*1000))\n",
    "    times2.append(t2-t1)\n",
    "\n",
    "\n",
    "times = [time if time > 1 else 1 for time in times]\n",
    "print(times)\n",
    "print(times2)\n",
    "\n",
    "\n",
    "for solution in q_res:\n",
    "    print(solution)\n",
    "    for smth in solution:\n",
    "        print(smth, end=' ')\n",
    "    print('')\n"
   ]
  }
 ],
 "metadata": {
  "kernelspec": {
   "display_name": "venv",
   "language": "python",
   "name": "python3"
  },
  "language_info": {
   "codemirror_mode": {
    "name": "ipython",
    "version": 3
   },
   "file_extension": ".py",
   "mimetype": "text/x-python",
   "name": "python",
   "nbconvert_exporter": "python",
   "pygments_lexer": "ipython3",
   "version": "3.11.4"
  }
 },
 "nbformat": 4,
 "nbformat_minor": 2
}
